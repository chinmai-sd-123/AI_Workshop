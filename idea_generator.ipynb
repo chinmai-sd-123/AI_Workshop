{
  "nbformat": 4,
  "nbformat_minor": 0,
  "metadata": {
    "colab": {
      "provenance": [],
      "authorship_tag": "ABX9TyNWY8g+SbYaS8Grq/hEZqaN",
      "include_colab_link": true
    },
    "kernelspec": {
      "name": "python3",
      "display_name": "Python 3"
    },
    "language_info": {
      "name": "python"
    }
  },
  "cells": [
    {
      "cell_type": "markdown",
      "metadata": {
        "id": "view-in-github",
        "colab_type": "text"
      },
      "source": [
        "<a href=\"https://colab.research.google.com/github/chinmai-sd-123/AI_Workshop/blob/main/Copy_of_idea_generator.ipynb\" target=\"_parent\"><img src=\"https://colab.research.google.com/assets/colab-badge.svg\" alt=\"Open In Colab\"/></a>"
      ]
    },
    {
      "cell_type": "code",
      "source": [
        "pip install -q transformers gradio torch accelerate"
      ],
      "metadata": {
        "id": "vfWF-uRlU36d"
      },
      "execution_count": null,
      "outputs": []
    },
    {
      "cell_type": "markdown",
      "source": [
        "import +load model\n"
      ],
      "metadata": {
        "id": "dlQYzGboVHon"
      }
    },
    {
      "cell_type": "code",
      "source": [
        "from transformers import pipeline\n",
        "import gradio as gr"
      ],
      "metadata": {
        "id": "yZKszaKaVKf8"
      },
      "execution_count": null,
      "outputs": []
    },
    {
      "cell_type": "markdown",
      "source": [
        "use a better instruction tuned model\n"
      ],
      "metadata": {
        "id": "_pY0UayuXyBU"
      }
    },
    {
      "cell_type": "code",
      "source": [
        "generator = pipeline(\"text-generation\", model=\"distilgpt2\",device_map=\"auto\")"
      ],
      "metadata": {
        "colab": {
          "base_uri": "https://localhost:8080/"
        },
        "id": "6mmBHfOgVPRM",
        "outputId": "f7d22ffe-7cef-4c85-d10f-45d203d7bc79"
      },
      "execution_count": null,
      "outputs": [
        {
          "output_type": "stream",
          "name": "stderr",
          "text": [
            "Device set to use cpu\n"
          ]
        }
      ]
    },
    {
      "cell_type": "markdown",
      "source": [],
      "metadata": {
        "id": "NRevxeZJb9mX"
      }
    },
    {
      "cell_type": "code",
      "source": [
        "def generate_idea(domain):\n",
        "  if not domain or not domain.strip():\n",
        "    return \"Please enter a valid domain.\"\n",
        "  # Add a prompt to ensure enough input length for the summarization model\n",
        "  prompt=f\"\"\"Generate a business idea related to the following domain: {domain}. Provide a brief description of the idea.\"\"\"\n",
        "  result=generator(prompt,max_new_tokens=400,temperature=0.8)\n",
        "  return result[0]['generated_text']"
      ],
      "metadata": {
        "id": "prtEaku8a9_P"
      },
      "execution_count": null,
      "outputs": []
    },
    {
      "cell_type": "markdown",
      "source": [
        "gradio ui"
      ],
      "metadata": {
        "id": "bsXp1VMbh2Uo"
      }
    },
    {
      "cell_type": "code",
      "source": [
        "demo=gr.Interface(fn=generate_idea,inputs=gr.TextBox(label=\"Domain of Interest\",placeholder=\"e.d.Agritech\")\",outputs=\"text\",title=\"start_up idea+idea generator\",description=\"enter a domain\")\n",
        "demo.launch(shared=True)"
      ],
      "metadata": {
        "id": "LDtYLWdShn5j"
      },
      "execution_count": null,
      "outputs": []
    },
    {
      "cell_type": "code",
      "metadata": {
        "colab": {
          "base_uri": "https://localhost:8080/",
          "height": 650
        },
        "id": "LDtYLWdSh5j",
        "outputId": "dc31b1f5-548f-4b5e-85fc-4e84b3ff00a9"
      },
      "source": [
        "demo=gr.Interface(fn=generate_idea,inputs=gr.Textbox(label=\"Domain of Interest\",placeholder=\"e.d.Agritech\"),outputs=\"text\",title=\"start_up idea+idea generator\",description=\"enter a domain\")\n",
        "demo.launch()"
      ],
      "execution_count": null,
      "outputs": [
        {
          "output_type": "stream",
          "name": "stdout",
          "text": [
            "It looks like you are running Gradio on a hosted Jupyter notebook, which requires `share=True`. Automatically setting `share=True` (you can turn this off by setting `share=False` in `launch()` explicitly).\n",
            "\n",
            "Colab notebook detected. To show errors in colab notebook, set debug=True in launch()\n",
            "* Running on public URL: https://338b9c0ccbf3b98b2f.gradio.live\n",
            "\n",
            "This share link expires in 1 week. For free permanent hosting and GPU upgrades, run `gradio deploy` from the terminal in the working directory to deploy to Hugging Face Spaces (https://huggingface.co/spaces)\n"
          ]
        },
        {
          "output_type": "display_data",
          "data": {
            "text/plain": [
              "<IPython.core.display.HTML object>"
            ],
            "text/html": [
              "<div><iframe src=\"https://338b9c0ccbf3b98b2f.gradio.live\" width=\"100%\" height=\"500\" allow=\"autoplay; camera; microphone; clipboard-read; clipboard-write;\" frameborder=\"0\" allowfullscreen></iframe></div>"
            ]
          },
          "metadata": {}
        },
        {
          "output_type": "execute_result",
          "data": {
            "text/plain": []
          },
          "metadata": {},
          "execution_count": 19
        }
      ]
    }
  ]
}
